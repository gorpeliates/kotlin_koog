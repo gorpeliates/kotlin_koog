{
 "cells": [
  {
   "cell_type": "code",
   "execution_count": 7,
   "id": "ac82c35e",
   "metadata": {},
   "outputs": [],
   "source": [
    "import dspy\n",
    "from dotenv import load_dotenv\n",
    "import os"
   ]
  },
  {
   "cell_type": "code",
   "execution_count": 8,
   "id": "e42874db",
   "metadata": {},
   "outputs": [],
   "source": [
    "load_dotenv()\n",
    "lm = dspy.LM(\"openrouter/deepseek/deepseek-chat-v3-0324:free\",api_key=os.getenv(\"OPEN_ROUTER_API_KEY\"))"
   ]
  },
  {
   "cell_type": "code",
   "execution_count": 9,
   "id": "1845d67e",
   "metadata": {},
   "outputs": [
    {
     "data": {
      "text/plain": [
       "[\"Got it! If this is a test, consider it passed. 😊 Let me know how I can help—whether it's answering questions, solving problems, or just chatting!  \\n\\n*(Or was there something specific you wanted to test?)*\"]"
      ]
     },
     "execution_count": 9,
     "metadata": {},
     "output_type": "execute_result"
    }
   ],
   "source": [
    "lm(messages=[{\"role\": \"user\", \"content\": \"Say this is a test!\"}])"
   ]
  }
 ],
 "metadata": {
  "kernelspec": {
   "display_name": "base",
   "language": "python",
   "name": "python3"
  },
  "language_info": {
   "codemirror_mode": {
    "name": "ipython",
    "version": 3
   },
   "file_extension": ".py",
   "mimetype": "text/x-python",
   "name": "python",
   "nbconvert_exporter": "python",
   "pygments_lexer": "ipython3",
   "version": "3.12.9"
  }
 },
 "nbformat": 4,
 "nbformat_minor": 5
}
