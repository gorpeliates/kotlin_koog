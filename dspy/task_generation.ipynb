{
 "cells": [
  {
   "cell_type": "code",
   "execution_count": null,
   "id": "ac82c35e",
   "metadata": {},
   "outputs": [],
   "source": [
    "import dspy\n",
    "from dotenv import load_dotenv\n",
    "import os"
   ]
  },
  {
   "cell_type": "code",
   "execution_count": null,
   "id": "e42874db",
   "metadata": {},
   "outputs": [],
   "source": [
    "load_dotenv()\n",
    "lm = dspy.LM(\"openrouter/deepseek/deepseek-chat-v3-0324:free\",api_key=os.getenv(\"OPEN_ROUTER_API_KEY_2\"))\n",
    "dspy.configure(lm=lm)"
   ]
  },
  {
   "cell_type": "code",
   "execution_count": null,
   "id": "49094280",
   "metadata": {},
   "outputs": [],
   "source": [
    "class RandomTaskCreationSignature(dspy.Signature):\n",
    "    context:str = dspy.InputField()\n",
    "    created_random_tasks:list[str] = dspy.OutputField()\n",
    "\n",
    "context = \"\"\"\n",
    "I am going to test the interactions and the workflow of a multi agent system(MAS) and need tasks for the agents to work on.\n",
    "These tasks should be about software development, such as writing code, reviewing code, debugging, or designing software architecture.\n",
    "The tasks should be diverse and make sure that all the roles in the MAS can be utilized.(e.g. developer, architect, project manager, project manager etc.)\n",
    "You can achieve this by this by creating a list of steps such as create system specification, write code, review code, test code, deploy code, etc.\n",
    "Make sure that the relevant result is returned as output. Ensure that the tasks contain all the relevant context and information that the agents need to complete the task.\n",
    "Do not create tasks that rely on external information or resources that are not available in the current context.\n",
    "\n",
    "Exampple task:\n",
    "Give me the system design properties and the relevant .py file for a calculator program that receives input from the console. \n",
    "Ask help from the software architect agent by getting its details. \n",
    "Give me the summary of the resulting code and the system specifications, and the list of other agents that you interacted with.\n",
    "\n",
    "\"\"\"\n",
    "\n",
    "random_tasks_prediction = dspy.Predict(RandomTaskCreationSignature)\n",
    "\n",
    "tasks = random_tasks_prediction(context=context).created_random_tasks\n",
    "tasks"
   ]
  },
  {
   "cell_type": "code",
   "execution_count": null,
   "id": "dc008ce9",
   "metadata": {},
   "outputs": [],
   "source": [
    "import requests\n",
    "\n",
    "# send the tasks to the spring boot server\n",
    "server_url = os.getenv(\"SPRING_SERVER_URL\")\n",
    "\n",
    "if server_url:\n",
    "\n",
    "    for i, task in enumerate(tasks):\n",
    "        print(f\"Task {i+1}: {task}\")\n",
    "\n",
    "        response = requests.post(\n",
    "            f\"{server_url}/startworkflow\",\n",
    "            json={\n",
    "                \"sender\": \"task_generator\",\n",
    "                \"message\": task\n",
    "                }\n",
    "        )\n",
    "        if response.status_code == 200:\n",
    "            print(\"Task completed successfully.\")\n",
    "            print(\"Response: \", response.text)\n",
    "\n",
    "        else:\n",
    "            print(f\"Failed to send tasks. Status code: {response.status_code}\")"
   ]
  }
 ],
 "metadata": {
  "kernelspec": {
   "display_name": "base",
   "language": "python",
   "name": "python3"
  },
  "language_info": {
   "codemirror_mode": {
    "name": "ipython",
    "version": 3
   },
   "file_extension": ".py",
   "mimetype": "text/x-python",
   "name": "python",
   "nbconvert_exporter": "python",
   "pygments_lexer": "ipython3",
   "version": "3.12.11"
  }
 },
 "nbformat": 4,
 "nbformat_minor": 5
}
