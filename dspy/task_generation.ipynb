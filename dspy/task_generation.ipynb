{
 "cells": [
  {
   "cell_type": "code",
   "execution_count": 1,
   "id": "ac82c35e",
   "metadata": {},
   "outputs": [],
   "source": [
    "import dspy\n",
    "from dotenv import load_dotenv\n",
    "import os"
   ]
  },
  {
   "cell_type": "code",
   "execution_count": 2,
   "id": "e42874db",
   "metadata": {},
   "outputs": [],
   "source": [
    "load_dotenv()\n",
    "lm = dspy.LM(\"openrouter/deepseek/deepseek-chat-v3-0324:free\",api_key=os.getenv(\"OPEN_ROUTER_API_KEY\"))\n",
    "dspy.configure(lm=lm)"
   ]
  },
  {
   "cell_type": "code",
   "execution_count": 3,
   "id": "49094280",
   "metadata": {},
   "outputs": [
    {
     "data": {
      "text/plain": [
       "['Implement a REST API endpoint for user authentication using JWT',\n",
       " \"Review the pull request for the new feature 'shopping cart' and provide feedback\",\n",
       " 'Debug the memory leak issue in the backend service',\n",
       " 'Design a microservices architecture for an e-commerce platform',\n",
       " 'Write unit tests for the payment processing module',\n",
       " 'Optimize the database queries for the reporting dashboard',\n",
       " 'Create a project timeline and milestones for the new mobile app development',\n",
       " 'Refactor the legacy codebase to improve maintainability',\n",
       " 'Develop a CI/CD pipeline for automated testing and deployment',\n",
       " 'Conduct a code review session with the team to ensure coding standards are followed']"
      ]
     },
     "execution_count": 3,
     "metadata": {},
     "output_type": "execute_result"
    }
   ],
   "source": [
    "class RandomTaskCreationSignature(dspy.Signature):\n",
    "    context:str = dspy.InputField()\n",
    "    created_random_tasks:list[str] = dspy.OutputField()\n",
    "\n",
    "context = \"\"\"\n",
    "I am going to test the interactions and the workflow of a multi agent system(MAS) and need tasks for the agents to work on.\n",
    "These tasks should be about software development, such as writing code, reviewing code, debugging, or designing software architecture.\n",
    "The tasks should be diverse and make sure that all the roles in the MAS can be utilized.(e.g. developer, architect, project manager, project manager etc.)\n",
    "Create at least 10 random tasks.\n",
    "\"\"\"\n",
    "\n",
    "random_tasks_prediction = dspy.Predict(RandomTaskCreationSignature)\n",
    "\n",
    "response = random_tasks_prediction(context=context)\n",
    "response.created_random_tasks"
   ]
  }
 ],
 "metadata": {
  "kernelspec": {
   "display_name": "base",
   "language": "python",
   "name": "python3"
  },
  "language_info": {
   "codemirror_mode": {
    "name": "ipython",
    "version": 3
   },
   "file_extension": ".py",
   "mimetype": "text/x-python",
   "name": "python",
   "nbconvert_exporter": "python",
   "pygments_lexer": "ipython3",
   "version": "3.12.11"
  }
 },
 "nbformat": 4,
 "nbformat_minor": 5
}
